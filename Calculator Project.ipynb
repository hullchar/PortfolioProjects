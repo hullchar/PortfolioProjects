{
 "cells": [
  {
   "cell_type": "code",
   "execution_count": 1,
   "id": "0e85a1f1",
   "metadata": {},
   "outputs": [],
   "source": [
    "def add(x,y):\n",
    "    return x + y\n",
    "\n",
    "def subtract(x,y):\n",
    "    return x - y\n",
    "\n",
    "def multiply(x,y):\n",
    "    return x * y\n",
    "\n",
    "def divide(x,y):\n",
    "    return x / y\n"
   ]
  },
  {
   "cell_type": "code",
   "execution_count": 3,
   "id": "bad8f123",
   "metadata": {},
   "outputs": [
    {
     "name": "stdout",
     "output_type": "stream",
     "text": [
      "Enter Choice: (A,S,M,D): A\n",
      "Enter first number: 2\n",
      "Enter second number: 3\n"
     ]
    }
   ],
   "source": [
    "choice = input('Enter Choice: (A,S,M,D): ')\n",
    "\n",
    "num1 = float(input('Enter first number: '))\n",
    "\n",
    "num2 = float(input('Enter second number: '))"
   ]
  },
  {
   "cell_type": "code",
   "execution_count": 12,
   "id": "a4dc310f",
   "metadata": {},
   "outputs": [
    {
     "name": "stdout",
     "output_type": "stream",
     "text": [
      "Enter 'A' for Addition.\n",
      "Enter 'S' for Subtraction.\n",
      "Enter 'M' for Multiplication.\n",
      "Enter 'D' for Division.\n",
      "Enter Choice: (A,S,M,D): divide\n",
      "Enter first number: 100\n",
      "Enter second number: 10\n",
      "Result:  100.0 / 10.0 = 10.0\n"
     ]
    }
   ],
   "source": [
    "print(\"Enter 'A' for Addition.\")\n",
    "print(\"Enter 'S' for Subtraction.\")\n",
    "print(\"Enter 'M' for Multiplication.\")\n",
    "print(\"Enter 'D' for Division.\")\n",
    "\n",
    "choice = input('Enter Choice: (A,S,M,D): ')\n",
    "\n",
    "\n",
    "\n",
    "if choice.upper() in ('A','ADD','ADDITION','S','SUBTRACT','SUBTRACTION','M','MULTIPLY','MULTIPLICATION','D','DIVIDE','DIVISION'):\n",
    "    num1 = float(input('Enter first number: '))\n",
    "    num2 = float(input('Enter second number: '))\n",
    "    \n",
    "    if choice.upper() in ('A','ADD','ADDITION'):\n",
    "        print('Result: ',num1, '+', num2, '=',add(num1,num2))\n",
    "        \n",
    "    elif choice.upper() in ('S','SUBTRACT','SUBTRACTION'):\n",
    "        print('Result: ',num1, '-', num2, '=',subtract(num1,num2))\n",
    "        \n",
    "    elif choice.upper() in ('M','MULTIPLY','MULTIPLICATION'):\n",
    "        print('Result: ',num1, '*', num2, '=',multiply(num1,num2))\n",
    "        \n",
    "    elif choice.upper() in ('D','DIVIDE','DIVISION'):\n",
    "        print('Result: ',num1, '/', num2, '=',divide(num1,num2))\n",
    "        \n",
    "else:\n",
    "    print(\"Please input a correct choice.\")"
   ]
  },
  {
   "cell_type": "code",
   "execution_count": 15,
   "id": "075d02bf",
   "metadata": {},
   "outputs": [
    {
     "name": "stdout",
     "output_type": "stream",
     "text": [
      "Enter 'A' for Addition.\n",
      "Enter 'S' for Subtraction.\n",
      "Enter 'M' for Multiplication.\n",
      "Enter 'D' for Division.\n",
      "Enter Choice: (A,S,M,D): a\n",
      "Enter first number: 20\n",
      "Enter second number: 40\n",
      "Result:  20.0 + 40.0 = 60.0\n",
      "Want to do another calculation? (yes/no?): yes\n",
      "Enter Choice: (A,S,M,D): m\n",
      "Enter first number: 10\n",
      "Enter second number: 10\n",
      "Result:  10.0 * 10.0 = 100.0\n",
      "Want to do another calculation? (yes/no?): y\n",
      "Enter Choice: (A,S,M,D): s\n",
      "Enter first number: 100\n",
      "Enter second number: 50\n",
      "Result:  100.0 - 50.0 = 50.0\n",
      "Want to do another calculation? (yes/no?): no\n"
     ]
    }
   ],
   "source": [
    "print(\"Enter 'A' for Addition.\")\n",
    "print(\"Enter 'S' for Subtraction.\")\n",
    "print(\"Enter 'M' for Multiplication.\")\n",
    "print(\"Enter 'D' for Division.\")\n",
    "\n",
    "\n",
    "while True:\n",
    "    choice = input('Enter Choice: (A,S,M,D): ')\n",
    "  \n",
    "    if choice.upper() in ('A','ADD','ADDITION','S','SUBTRACT','SUBTRACTION','M','MULTIPLY','MULTIPLICATION','D','DIVIDE','DIVISION'):\n",
    "        num1 = float(input('Enter first number: '))\n",
    "        num2 = float(input('Enter second number: '))\n",
    "\n",
    "        if choice.upper() in ('A','ADD','ADDITION'):\n",
    "            print('Result: ',num1, '+', num2, '=',add(num1,num2))\n",
    "\n",
    "        elif choice.upper() in ('S','SUBTRACT','SUBTRACTION'):\n",
    "            print('Result: ',num1, '-', num2, '=',subtract(num1,num2))\n",
    "\n",
    "        elif choice.upper() in ('M','MULTIPLY','MULTIPLICATION'):\n",
    "            print('Result: ',num1, '*', num2, '=',multiply(num1,num2))\n",
    "\n",
    "        elif choice.upper() in ('D','DIVIDE','DIVISION'):\n",
    "            print('Result: ',num1, '/', num2, '=',divide(num1,num2))\n",
    "\n",
    "    else:\n",
    "        print(\"Please input a correct choice.\")\n",
    "        \n",
    "    next_calculation = input(\"Want to do another calculation? (yes/no?): \")\n",
    "    if next_calculation.lower() in ('no','n','nope'):\n",
    "        break "
   ]
  },
  {
   "cell_type": "code",
   "execution_count": null,
   "id": "1bd3deb5",
   "metadata": {},
   "outputs": [],
   "source": []
  }
 ],
 "metadata": {
  "kernelspec": {
   "display_name": "Python 3 (ipykernel)",
   "language": "python",
   "name": "python3"
  },
  "language_info": {
   "codemirror_mode": {
    "name": "ipython",
    "version": 3
   },
   "file_extension": ".py",
   "mimetype": "text/x-python",
   "name": "python",
   "nbconvert_exporter": "python",
   "pygments_lexer": "ipython3",
   "version": "3.11.5"
  }
 },
 "nbformat": 4,
 "nbformat_minor": 5
}
